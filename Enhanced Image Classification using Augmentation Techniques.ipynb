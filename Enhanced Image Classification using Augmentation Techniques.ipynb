{
 "cells": [
  {
   "cell_type": "code",
   "execution_count": 2,
   "metadata": {
    "id": "tVHpiszqvLSy"
   },
   "outputs": [],
   "source": [
    "import numpy,random"
   ]
  },
  {
   "cell_type": "code",
   "execution_count": 3,
   "metadata": {
    "id": "_3XJ-XsnqOfz"
   },
   "outputs": [],
   "source": [
    "def unpickle(file):\n",
    "    import pickle\n",
    "    with open(file,'rb') as f:\n",
    "        dict = pickle.load(f,encoding='bytes')\n",
    "    return dict"
   ]
  },
  {
   "cell_type": "markdown",
   "metadata": {
    "id": "9KsrAqgz1iGw"
   },
   "source": [
    "###TRANSFORMATION FUNCTION IMPLEMENTATION"
   ]
  },
  {
   "cell_type": "markdown",
   "metadata": {
    "id": "tc5gwBqv6AGo"
   },
   "source": [
    "DATA LOADING"
   ]
  },
  {
   "cell_type": "code",
   "execution_count": null,
   "metadata": {
    "id": "r7XecmRPvQxj"
   },
   "outputs": [],
   "source": [
    "import os\n",
    "path = \"/Data/cifar-10-batches-py/\"\n",
    "\n",
    "data  =  []      #Images\n",
    "label =  []      #Label\n",
    "\n",
    "data_test = []\n",
    "label_test = []\n",
    "\n",
    "for file in os.listdir(path):\n",
    "\n",
    "  if(file.startswith('data')):\n",
    "    dataset = unpickle(path+file)\n",
    "    label.extend(dataset[b'labels'])\n",
    "    data.extend(dataset[b'data'])\n",
    "\n",
    "  if(file.startswith('test')):\n",
    "    dataset = unpickle(path+file)\n",
    "    label_test.extend(dataset[b'labels'])\n",
    "    data_test.extend(dataset[b'data'])"
   ]
  },
  {
   "cell_type": "markdown",
   "metadata": {
    "id": "mpf9K3aIGui9"
   },
   "source": [
    "IMAGE DISPLAY FUNCTION"
   ]
  },
  {
   "cell_type": "code",
   "execution_count": 5,
   "metadata": {
    "id": "R7AlyGqmx3xT"
   },
   "outputs": [],
   "source": [
    "from matplotlib import pyplot\n",
    "\n",
    "def image_ArrayDisplay(image):\n",
    "    image_array = numpy.reshape(image,(3,32,32)).transpose(1,2,0)\n",
    "    print(image_array)\n",
    "\n",
    "def image_display(image):\n",
    "    image_array = numpy.reshape(image,(3,32,32)).transpose(1,2,0)\n",
    "    img = pyplot.imshow(image_array)"
   ]
  },
  {
   "cell_type": "markdown",
   "metadata": {
    "id": "MBLZVIv4B747"
   },
   "source": [
    "1) Image Enhancement"
   ]
  },
  {
   "cell_type": "code",
   "execution_count": 29,
   "metadata": {
    "id": "SPYZyhOG1BJg"
   },
   "outputs": [],
   "source": [
    "# Enhancing a single PIXEL\n",
    "def enhance_Pixel(i,factor,min_pixel):\n",
    "       return ( int( (i-min_pixel) / (factor) ) )\n",
    "    \n",
    "# Enhancing an IMAGE\n",
    "def enhance_Image(image):\n",
    "    max_pixel=max(image) \n",
    "    min_pixel=min(image)\n",
    "    factor = int(255/(max_pixel-min_pixel) )\n",
    "    functionality = numpy.vectorize(enhance_Pixel,excluded=['factor','min_pixel'])\n",
    "    return functionality(image,factor,min_pixel)\n"
   ]
  },
  {
   "cell_type": "code",
   "execution_count": null,
   "metadata": {
    "id": "eAuZj6IJ1Lc1"
   },
   "outputs": [],
   "source": [
    "#  Demonstration of Image Enhancement by applying on example image\n",
    "image = data[100]\n",
    "new_image =  enhance_Image(image)\n",
    "image_display(new_image)"
   ]
  },
  {
   "cell_type": "markdown",
   "metadata": {
    "id": "IO9ttcpfB2zw"
   },
   "source": [
    "2) Image Posterization "
   ]
  },
  {
   "cell_type": "code",
   "execution_count": 30,
   "metadata": {
    "id": "LB5MpbW21OoW"
   },
   "outputs": [],
   "source": [
    "# Posterization for a PIXEL\n",
    "def posterization_Pixel(i,divider,desired_min):\n",
    "        i = int(i)/divider\n",
    "        i = int(i)+desired_min\n",
    "        return int(i if i<=255 and i>=0 else 255 if i>255 else 0)\n",
    "\n",
    "# Posterization for an IMAGE    \n",
    "def posterize_Image(image,desired_max,desired_min):\n",
    "    r = desired_max - desired_min\n",
    "    divider = int(255/r)\n",
    "    functionality = numpy.vectorize(posterization_Pixel,excluded=['divider','desired_min'])\n",
    "    return functionality(image,divider,desired_min)"
   ]
  },
  {
   "cell_type": "code",
   "execution_count": null,
   "metadata": {
    "id": "a_XjTOE81Sqf"
   },
   "outputs": [],
   "source": [
    "#  Demonstration of Image Posterization by applying on example image\n",
    "image = data[100]\n",
    "new_image =  posterize_Image(image,200,50)\n",
    "image_display(new_image)"
   ]
  },
  {
   "cell_type": "markdown",
   "metadata": {
    "id": "BkIWOrHABwzB"
   },
   "source": [
    "3) Random Rotate Image\n"
   ]
  },
  {
   "cell_type": "code",
   "execution_count": 31,
   "metadata": {
    "id": "ptlGvkp11U_k"
   },
   "outputs": [],
   "source": [
    "def rotate_Image(image,angle):\n",
    "\n",
    "    import math\n",
    "    \n",
    "    image = numpy.reshape(image,(3,32,32)).transpose(1,2,0)\n",
    "    height=image.shape[0]                                   \n",
    "    width=image.shape[1]\n",
    "         \n",
    "    angle_in_rad=math.radians(angle)                           \n",
    "    \n",
    "    cos=math.cos(angle_in_rad)\n",
    "    sin=math.sin(angle_in_rad)\n",
    "\n",
    "    # height and width of the new image\n",
    "    \n",
    "    output_image = numpy.zeros((height,width,image.shape[2]),dtype='uint8')\n",
    "\n",
    "    # centre of the image about which we have to rotate the image\n",
    "    original_centre_height   = round(((image.shape[0]+1)/2)-1)    \n",
    "    original_centre_width    = round(((image.shape[1]+1)/2)-1)   \n",
    "\n",
    "\n",
    "    for i in range(height):\n",
    "        for j in range(width):\n",
    "            #co-ordinates of pixel with respect to the centre of original image\n",
    "            y = height - i - 1 - original_centre_height                   \n",
    "            x = width - j - 1 - original_centre_width                      \n",
    "\n",
    "            #co-ordinate of pixel with respect to the rotated image\n",
    "            new_y=round(-x * sin + y*cos)\n",
    "            new_x=round( x*cos + y*sin)\n",
    "\n",
    "            #change new_x and new_y with respect to the centre\n",
    "            new_y = original_centre_height - new_y\n",
    "            new_x = original_centre_width - new_x\n",
    "            \n",
    "            if 0 <= new_x < width and 0 <= new_y < height:\n",
    "                output_image[new_y,new_x,:]=image[i,j,:]   \n",
    "\n",
    "    # pyplot.imshow(output_image)\n",
    "    # convert the image to the data[i] format\n",
    "    output_image=output_image.transpose(2,0,1)\n",
    "    output = numpy.reshape( output_image,(3072) )\n",
    "    return output"
   ]
  },
  {
   "cell_type": "code",
   "execution_count": null,
   "metadata": {
    "id": "CepI3DoJ1X4y"
   },
   "outputs": [],
   "source": [
    "# Demonstration of Rotate Image applying on example image\n",
    "image = data[100]\n",
    "new_image =  rotate_Image(image,15)\n",
    "image_display(new_image)"
   ]
  },
  {
   "cell_type": "markdown",
   "metadata": {
    "id": "O-AjCGFBBgKV"
   },
   "source": [
    "4) Changing Contrast  x′(i, j, c) = α ·(x(i, j, c)−128)+128 and flip image with 0.5 probability\n"
   ]
  },
  {
   "cell_type": "code",
   "execution_count": 32,
   "metadata": {
    "id": "p6EqpjMf1Z_u"
   },
   "outputs": [],
   "source": [
    "# HORINZONTAL FLIP AN IMAGE\n",
    "def flip_hor_Image(image):\n",
    "    ptr=0\n",
    "    size=32\n",
    "    while ptr< len(image):\n",
    "        image[ptr:ptr+size]=numpy.flip(image[ptr:ptr+size])\n",
    "        ptr+=size\n",
    "        \n",
    "    return image\n",
    "\n",
    "# Changing Contrast for a PIXEL\n",
    "def change_contrast_Pixel(i,alpha):\n",
    "    i = alpha*( int(i) - 128) +128 \n",
    "    return int(i if i<=255 and i>=0 else 255 if i>255 else 0)\n",
    "\n",
    "# Changing Contrast for an IMAGE + flip image with 0.5 probability\n",
    "def change_contrast_and_flip_Image(image):\n",
    "    alpha = random.uniform(0.5,2.0)  # alpha should be between 0.5 and 2.0\n",
    "    functionality = numpy.vectorize(change_contrast_Pixel,excluded=['alpha'])\n",
    "    image = functionality(image,alpha)\n",
    "    #flip image with 0.5 probability\n",
    "    flip = random.uniform(0,1)\n",
    "    if flip >= 0.5:\n",
    "        image = flip_hor_Image(image)\n",
    "    return image"
   ]
  },
  {
   "cell_type": "code",
   "execution_count": null,
   "metadata": {
    "colab": {
     "base_uri": "https://localhost:8080/",
     "height": 266
    },
    "id": "EKlMyT9G1c8I",
    "outputId": "4243e4fb-e79a-43ab-fce7-7dfcedc826a4"
   },
   "outputs": [
    {
     "data": {
      "image/png": "[encoded data removed]",
      "text/plain": [
       "<Figure size 432x288 with 1 Axes>"
      ]
     },
     "metadata": {
      "needs_background": "light"
     },
     "output_type": "display_data"
    }
   ],
   "source": [
    "# Demonstration of Changing Contrast + flip by applying on example image\n",
    "image = data[100]\n",
    "new_image =  change_contrast_and_flip_Image(image)\n",
    "image_display(new_image)"
   ]
  },
  {
   "cell_type": "markdown",
   "metadata": {
    "id": "PgXGyN7cHeJI"
   },
   "source": [
    "CREATING AUGMENTED DATASET BY APPLYING RANDOM TRANSFORMATIONS"
   ]
  },
  {
   "cell_type": "code",
   "execution_count": 33,
   "metadata": {
    "id": "hcejSz-J1fqf"
   },
   "outputs": [],
   "source": [
    "# Applying tranformation to all images and creating a new dataset\n",
    "# \n",
    "# -------FUNCTIONS--------\n",
    "#   1   :   enhance_Image() \n",
    "#   2   :   posterize_Image()\n",
    "#   3   :   rotate_Image()\n",
    "#   4   :   change_contrast_and_flip_Image()  \n",
    "\n",
    "def tranform_dataset( data, label):\n",
    "  transformed_images = []\n",
    "  transformed_images_label = []\n",
    "\n",
    "  for i in range(len(data)):\n",
    "      #Saving the label of the image\n",
    "      transformed_images_label.append( label[i] )\n",
    "      \n",
    "      #Creating a random int to decide which transformation to apply\n",
    "      function_choice = random.randint(1,4)\n",
    "      \n",
    "      if function_choice == 1:\n",
    "          transformed_images.append( enhance_Image(data[i]) )\n",
    "      elif function_choice == 2:\n",
    "          # posterize_Image(image,desired_max,desired_min)\n",
    "          transformed_images.append( posterize_Image(data[i], 200, 50 ))\n",
    "      elif function_choice == 3:\n",
    "          # rotate_Image(image,angle) by 90 deg\n",
    "          transformed_images.append( rotate_Image(data[i],90) )\n",
    "      elif function_choice == 4:\n",
    "          transformed_images.append( change_contrast_and_flip_Image(data[i]) )\n",
    "      else:\n",
    "          transformed_images.append( data[i] )\n",
    "\n",
    "  # Creating the combined dataset of original images + transformed images along with labels\n",
    "  augmented_data = data.copy()\n",
    "  augmented_data += transformed_images\n",
    "\n",
    "  augmented_data_label = label.copy()\n",
    "  augmented_data_label += transformed_images_label\n",
    "\n",
    "  return augmented_data,augmented_data_label"
   ]
  },
  {
   "cell_type": "code",
   "execution_count": null,
   "metadata": {
    "id": "aPHGjLf-3qP0"
   },
   "outputs": [],
   "source": [
    "original_dataset={'data':[],'label':[]}\n",
    "original_dataset['data'] = data\n",
    "original_dataset['label'] = label\n",
    "\n",
    "augmented_dataset={'data':[],'label':[]}\n",
    "augmented_dataset['data'],augmented_dataset['label'] = tranform_dataset(data,label)\n",
    "\n",
    "test_dataset={'data':[],'label':[]}\n",
    "test_dataset['data'] = data_test\n",
    "test_dataset['label'] = label_test\n",
    "\n",
    "print( \"ORIGINAL DATASET: \",len(original_dataset['data']), len(original_dataset['label']) )\n",
    "print( \"AUGMENTED DATASET: \",len(augmented_dataset['data']), len(augmented_dataset['label']) )\n",
    "print( \"TESTING DATASET: \",len(test_dataset['data']), len(test_dataset['label']) )"
   ]
  },
  {
   "cell_type": "markdown",
   "metadata": {
    "id": "x8XqvZxf33Q4"
   },
   "source": [
    "FEATURE EXTRACTION"
   ]
  },
  {
   "cell_type": "code",
   "execution_count": 26,
   "metadata": {
    "id": "eGS0dU483787"
   },
   "outputs": [],
   "source": [
    "def feature_extractor( data , size ):\n",
    "  import cv2  # use -- for resizing the image\n",
    "  import feature_extractor as fe\n",
    "\n",
    "  bBResNet18 = fe.BBResNet18()\n",
    "\n",
    "  # 512,no of images matrix to hold features for the training data\n",
    "  feature_mat = numpy.empty((512,size),dtype=numpy.float32)\n",
    "\n",
    "  temp_image = numpy.empty((3,224,224),dtype=numpy.float32)\n",
    "\n",
    "  # Resizing the image from 3,32,32 to 3,224,224\n",
    "  for i in range( size ):\n",
    "    image = numpy.resize(data[i],(3,32,32))\n",
    "    for channel in range(3):\n",
    "      temp_image[channel] = cv2.resize(image[channel].astype(float),  dsize=(224,224))\n",
    "\n",
    "    # Passing the converted images to the feature extraction algorithm\n",
    "    feature_mat[:,i] = bBResNet18.feature_extraction(temp_image[None,:].astype('float32'))\n",
    "  \n",
    "  # Changing nan values to 0\n",
    "  feature_mat[numpy.isnan(feature_mat)] = 0\n",
    "\n",
    "  # Normalize array between -1.0 and +1.0 by using array /= np.max(np.abs(array),axis=0) features are stored column wise\n",
    "  feature_mat /= numpy.nanmax(numpy.abs(feature_mat),axis=0)\n",
    "\n",
    "  return feature_mat"
   ]
  },
  {
   "cell_type": "markdown",
   "metadata": {
    "id": "LIgUakOIfLwr"
   },
   "source": [
    "FEEDFORWARD IMPLEMENTATION"
   ]
  },
  {
   "cell_type": "code",
   "execution_count": 10,
   "metadata": {
    "id": "yvxRT73rrur6"
   },
   "outputs": [],
   "source": [
    "# input : feature_mat : 512x50000\n",
    "def initialize_parameters():\n",
    "  # Hidden layer 1\n",
    "  W1 =  numpy.float32(numpy.random.rand(64,512))\n",
    "  b1 =  numpy.float32(numpy.random.rand(64,1))\n",
    "  # Hidden layer 2\n",
    "  W2 =  numpy.float32(numpy.random.rand(64,64))\n",
    "  b2 =  numpy.float32(numpy.random.rand(64,1))\n",
    "  # Output layer\n",
    "  WL = numpy.float32(numpy.random.rand(10,64))\n",
    "  bL = numpy.float32(numpy.random.rand(10,1))\n",
    " \n",
    "  return W1,b1,W2,b2,WL,bL\n",
    "\n",
    "\n",
    "# Activation function -- ReLU function\n",
    "def reLU(x):\n",
    "  return numpy.maximum(0,x)\n",
    "\n",
    "  return reLu(summation)\n",
    " \n",
    "# softmax function -- output function\n",
    "def softmax(x):\n",
    "  B = numpy.exp(x-numpy.amax(x,axis=0))  # using axis=0 because features are stored column-wise \n",
    "  # B=numpy.exp(x)\n",
    "  C = numpy.sum(B,axis=0)\n",
    "  return B/C\n",
    "\n",
    "def forward_propogation(X,W1,b1,W2,b2,WL,bL):\n",
    "  # Weight_matrix.dot(x) + bias\n",
    "  a1 = W1.dot(X) + b1 \n",
    "  h1 = reLU( a1 )\n",
    "  # print(Z1)\n",
    "  a2 = W2.dot(h1) + b2\n",
    "  h2 = reLU( a2 )\n",
    "  # print(Z2)\n",
    "  aL =  WL.dot(h2)+ bL\n",
    "  Yhat = softmax( aL )\n",
    "  return a1,a2,aL,h1,h2,Yhat\n",
    "  # output dimension of Yhat : 10x50000 containing the output for each image column-wise"
   ]
  },
  {
   "cell_type": "markdown",
   "metadata": {
    "id": "RUU_NsW07D4E"
   },
   "source": [
    " BACKPROPOGATION ALGORITHM"
   ]
  },
  {
   "cell_type": "code",
   "execution_count": 11,
   "metadata": {
    "id": "3P7FgmHPXEam"
   },
   "outputs": [],
   "source": [
    "def one_hot(Y):\n",
    "  # Y -- label (50000) list\n",
    "  one_hot_Y = numpy.zeros( ( Y.size , max(Y)+1 ) )  # classes = 10  no of data points = label.size\n",
    "  one_hot_Y[numpy.arange(Y.size), Y ] = 1\n",
    "  return one_hot_Y.T\n",
    "\n",
    "# Derivative of reLU when x>0 -- 1 else 0\n",
    "def deriv_reLU(x):\n",
    "  return x>0\n",
    "\n",
    "def back_propogation(X,a1,a2,aL,h1,h2,W2,WL,Yhat,Y):\n",
    "  one_hot_Y = one_hot(Y)\n",
    "\n",
    "  #compute gradeint w.r.t respect to output\n",
    "  grad_al = -(one_hot_Y-Yhat)  # 10,50000\n",
    "  \n",
    "  #compute gradients w.r.t parameters for layer l\n",
    "  grad_WL = grad_al.dot( h2.transpose() )\n",
    "  grad_bl = numpy.sum(grad_al,axis=1)\n",
    "  grad_bl = grad_bl[:,None] #Convert 10, to 10,1 dimensions\n",
    "  \n",
    "  # print(grad_WL.shape, grad_bl.shape)\n",
    "  \n",
    "  #compute gradientes w.r.t respect to layer 2(activation)\n",
    "  grad_h2 = WL.transpose().dot(grad_al)\n",
    "  #compute gradientes w.r.t respect to layer 2(pre-activation)\n",
    "  grad_a2 = numpy.multiply(grad_h2,deriv_reLU(a2))\n",
    "  \n",
    "  #compute gradients w.r.t parameters for layer 2\n",
    "  grad_W2 = grad_a2.dot(h1.transpose())\n",
    "  grad_b2 = numpy.array(numpy.sum(grad_a2,axis=1))\n",
    "  grad_b2 = grad_b2[:,None] #Convert 64, to 64,1 dimensions\n",
    "  \n",
    "  # print(grad_W2.shape, grad_b2.shape)\n",
    "\n",
    "  #compute gradientes w.r.t respect to layer 1(activation)\n",
    "  grad_h1 = W2.transpose().dot(grad_a2)\n",
    "  #compute gradientes w.r.t respect to layer 1(pre-activation)\n",
    "  grad_a1 = numpy.multiply(grad_h1,deriv_reLU(a1))\n",
    "\n",
    "  #compute gradients w.r.t parameters for layer 1\n",
    "  grad_W1 = grad_a1.dot(X.T)\n",
    "  grad_b1 = numpy.array(numpy.sum(grad_a1,axis=1))\n",
    "  grad_b1 = grad_b1[:,None] #Convert 64, to 64,1 dimensions\n",
    "  \n",
    "  \n",
    "  # print(grad_W1.shape, grad_b1.shape)\n",
    "  return grad_W1,grad_b1,grad_W2,grad_b2,grad_WL,grad_bl\n",
    "\n",
    "\n",
    "def update_parameters(W1,b1,W2,b2,WL,bL,dW1,db1,dW2,db2,dWL,dbL,alpha):\n",
    "  W1 = W1 - alpha*dW1\n",
    "  b1 = b1 - alpha*db1\n",
    "  W2 = W2 - alpha*dW2\n",
    "  b2 = b2 - alpha*db2\n",
    "  WL = WL - alpha*dWL\n",
    "  bL = bL - alpha*dbL\n",
    "  return W1,b1,W2,b2,WL,bL"
   ]
  },
  {
   "cell_type": "markdown",
   "metadata": {
    "id": "uwiTTfsssWeG"
   },
   "source": [
    "COST FUNCTION IMPLEMENTATION"
   ]
  },
  {
   "cell_type": "code",
   "execution_count": 12,
   "metadata": {
    "id": "vKpVTYwQ1XrT"
   },
   "outputs": [],
   "source": [
    "def cross_entropy(y,y_pre):\n",
    "  loss=-numpy.sum(y*numpy.log(y_pre + 0.00001))\n",
    "  return loss/(y_pre.size)"
   ]
  },
  {
   "cell_type": "markdown",
   "metadata": {
    "id": "NejXL9xOsZsT"
   },
   "source": [
    "TRAINING THE MLP BY GRADIENT DESCENT"
   ]
  },
  {
   "cell_type": "code",
   "execution_count": 13,
   "metadata": {
    "id": "CeuhNoHeWplp"
   },
   "outputs": [],
   "source": [
    "def train_MLP( epochs,alpha,X,Y ):\n",
    "  Y_hot = one_hot(Y) # (no of images, 10)\n",
    "  cost=[0.0] * epochs\n",
    "  \n",
    "  W1,b1,W2,b2,WL,bL = initialize_parameters() #Initalize parameters only once\n",
    "\n",
    "  for iteration in range(epochs):\n",
    "    a1,a2,aL,h1,h2,Yhat = forward_propogation( X,W1,b1,W2,b2,WL,bL )\n",
    "    # print(cross_entropy(Y_hot,Yhat))\n",
    "    cost[iteration] = cross_entropy(Y_hot,Yhat) # Storing cost for each iteration\n",
    "    \n",
    "    dW1,db1,dW2,db2,dWL,dbL = back_propogation(X,a1,a2,aL,h1,h2,W2,WL,Yhat,Y) #back_propogation() returns the gradient values\n",
    "    W1,b1,W2,b2,WL,bL = update_parameters(W1,b1,W2,b2,WL,bL,dW1,db1,dW2,db2,dWL,dbL,alpha)\n",
    "  \n",
    "  # Storing the paramters we got after training\n",
    "  trained_parameters = [W1,b1,W2,b2,WL,bL]\n",
    "  return Y_hot,Yhat,cost,trained_parameters"
   ]
  },
  {
   "cell_type": "markdown",
   "metadata": {
    "id": "0H_2q_EzyWmT"
   },
   "source": [
    "ACCURACY FUNCTION"
   ]
  },
  {
   "cell_type": "code",
   "execution_count": 14,
   "metadata": {
    "id": "gmeReUOCPk3k"
   },
   "outputs": [],
   "source": [
    "def accuracy(y, y_hat):\n",
    "    y_hat = numpy.argmax(y_hat, axis=0) # Taking the highest probability value as the predicted class\n",
    "    y = numpy.argmax(y, axis=0)\n",
    "\n",
    "    from sklearn.metrics import accuracy_score\n",
    "    score = accuracy_score(y, y_hat)\n",
    "    print(\"Accuracy: \",score*100.0,\"%\")"
   ]
  },
  {
   "cell_type": "markdown",
   "metadata": {
    "id": "YUZI5Ungg6my"
   },
   "source": [
    "COST vs EPOCHS PLOT"
   ]
  },
  {
   "cell_type": "code",
   "execution_count": 15,
   "metadata": {
    "id": "fDcnZEGgbONx"
   },
   "outputs": [],
   "source": [
    "def plot_cost(cost,epochs):\n",
    "  import matplotlib.pyplot as plt\n",
    "\n",
    "  iterations = numpy.arange(epochs)\n",
    "  plt.plot(iterations, cost)  \n",
    "  plt.xlabel(\"Epochs\")\n",
    "  plt.ylabel(\"Cost\")\n",
    "  plt.show()"
   ]
  },
  {
   "cell_type": "markdown",
   "metadata": {
    "id": "DaMiTKw0k2yr"
   },
   "source": [
    "TESTING/PREDICT IMPLEMENTATION"
   ]
  },
  {
   "cell_type": "code",
   "execution_count": 16,
   "metadata": {
    "id": "VGapNWgMhcqf"
   },
   "outputs": [],
   "source": [
    "def predict(X_test,Y_test,parameters):\n",
    "  # for i in range(len(parameters)):\n",
    "  W1,b1,W2,b2,WL,bL = *parameters, # parameters is a list, so we use * operator to access the members and , to change it to a tuple for assignment\n",
    "  \n",
    "  _,_,_,_,_,predictions = forward_propogation( X_test,W1,b1,W2,b2,WL,bL )\n",
    "  accuracy(one_hot(Y_test),predictions)"
   ]
  },
  {
   "cell_type": "markdown",
   "metadata": {
    "id": "7Vf2p54RgRer"
   },
   "source": [
    "TRAINING THE MLP"
   ]
  },
  {
   "cell_type": "code",
   "execution_count": 120,
   "metadata": {
    "id": "ZsbE1woBJsT7"
   },
   "outputs": [],
   "source": [
    "epochs = 120 # Number of times training is performed\n",
    "alpha = 0.00002  #Learning Rate"
   ]
  },
  {
   "cell_type": "markdown",
   "metadata": {
    "id": "Q1AkR8Mt-LHb"
   },
   "source": [
    "WITH ORIGINAL DATASET"
   ]
  },
  {
   "cell_type": "code",
   "execution_count": null,
   "metadata": {
    "id": "Ffh_SIUpJz--"
   },
   "outputs": [],
   "source": [
    "# original_dataset={'data':[],'label':[]}\n",
    "X=feature_extractor(original_dataset['data'], len(original_dataset['data']))\n",
    "Y= numpy.array(original_dataset['label'])"
   ]
  },
  {
   "cell_type": "code",
   "execution_count": null,
   "metadata": {
    "id": "V1U3m4vfJvoe"
   },
   "outputs": [],
   "source": [
    "Y_hot,Yhat,cost,trained_parameters = train_MLP(epochs,alpha,X,Y)\n",
    "plot_cost(cost,epochs)"
   ]
  },
  {
   "cell_type": "markdown",
   "metadata": {
    "id": "BigYpkbe-OgT"
   },
   "source": [
    "WITH AUGMENTED DATASET"
   ]
  },
  {
   "cell_type": "code",
   "execution_count": 39,
   "metadata": {
    "id": "UmLbWzwq-Re-"
   },
   "outputs": [],
   "source": [
    "# augmented_dataset={'data':[],'label':[]}\n",
    "X_augmented = feature_extractor(augmented_dataset['data'], len(augmented_dataset['data']))\n",
    "Y_augmented = numpy.array(augmented_dataset['label'])"
   ]
  },
  {
   "cell_type": "code",
   "execution_count": null,
   "metadata": {
    "id": "ufRqjeG_FwEq"
   },
   "outputs": [],
   "source": [
    "Y_hot_augmented,Yhat_augmented,cost_augmented,trained_parameters_augmented = train_MLP(epochs,alpha,X_augmented,Y_augmented)\n",
    "plot_cost(cost_augmented,epochs)"
   ]
  },
  {
   "cell_type": "markdown",
   "metadata": {
    "id": "0sEAwcksaigs"
   },
   "source": [
    "SAVING THE PARAMETERS "
   ]
  },
  {
   "cell_type": "code",
   "execution_count": 123,
   "metadata": {
    "id": "PCwqSIVhOP-T"
   },
   "outputs": [],
   "source": [
    "import pickle\n",
    "\n",
    "with open('parameters_original.pkl', 'wb') as f:\n",
    "  pickle.dump(trained_parameters, f)\n",
    "\n",
    "with open('parameters_augmented.pkl', 'wb') as f:\n",
    "  pickle.dump(trained_parameters_augmented, f)"
   ]
  },
  {
   "cell_type": "markdown",
   "metadata": {
    "id": "DZC82wa9rQUv"
   },
   "source": [
    "TESTING (Accuracy)"
   ]
  },
  {
   "cell_type": "markdown",
   "metadata": {
    "id": "j5YfeyH2Cu1J"
   },
   "source": [
    "ORIGINAL TEST DATASET"
   ]
  },
  {
   "cell_type": "code",
   "execution_count": 27,
   "metadata": {
    "id": "0GbvVqNfuXfH"
   },
   "outputs": [],
   "source": [
    "X_test = feature_extractor(test_dataset['data'],len(test_dataset['data']))\n",
    "Y_test = numpy.array(test_dataset['label'])"
   ]
  },
  {
   "cell_type": "code",
   "execution_count": null,
   "metadata": {
    "id": "Rg5b3KQhKTxu"
   },
   "outputs": [],
   "source": [
    "print(\"Original Testing dataset\")"
   ]
  },
  {
   "cell_type": "code",
   "execution_count": null,
   "metadata": {
    "id": "cJ_oWdhB-_BN"
   },
   "outputs": [],
   "source": [
    "print(\"With original Training dataset\")\n",
    "predict(X_test,Y_test,trained_parameters)\n",
    "print(\"With augmented Training dataset\")\n",
    "predict(X_test,Y_test,trained_parameters_augmented)"
   ]
  },
  {
   "cell_type": "markdown",
   "metadata": {
    "id": "mwbvoEHGCyre"
   },
   "source": [
    "AUGMENTED TEST DATASET"
   ]
  },
  {
   "cell_type": "code",
   "execution_count": 54,
   "metadata": {
    "id": "f0HiJFR9C3e9"
   },
   "outputs": [],
   "source": [
    "X_augmented_test_data,Y_augmented_test_data = tranform_dataset(test_dataset['data'], test_dataset['label'] )"
   ]
  },
  {
   "cell_type": "code",
   "execution_count": null,
   "metadata": {
    "id": "cqSj7BsBE8Vb"
   },
   "outputs": [],
   "source": [
    "X_augmented_test = feature_extractor(X_augmented_test_data,len(X_augmented_test_data))\n",
    "Y_augmented_test = numpy.array(Y_augmented_test_data)"
   ]
  },
  {
   "cell_type": "code",
   "execution_count": null,
   "metadata": {
    "id": "kjakjMf1KYqt"
   },
   "outputs": [],
   "source": [
    "print(\"Augmented Testing dataset\")"
   ]
  },
  {
   "cell_type": "code",
   "execution_count": null,
   "metadata": {
    "id": "9MMyRNISE538"
   },
   "outputs": [],
   "source": [
    "print(\"With original Training dataset\")\n",
    "predict(X_augmented_test,Y_augmented_test,trained_parameters)\n",
    "print(\"With augmented Training dataset\")\n",
    "predict(X_augmented_test,Y_augmented_test,trained_parameters_augmented)"
   ]
  },
  {
   "cell_type": "markdown",
   "metadata": {
    "id": "IqOvmC-3cIVT"
   },
   "source": [
    "## IMPLEMENTATION OF DIFFERENT CLASSIFIER "
   ]
  },
  {
   "cell_type": "markdown",
   "metadata": {
    "id": "Idd_XhIwEjNI"
   },
   "source": [
    "Logistic Regression Classifier\n",
    "\n"
   ]
  },
  {
   "cell_type": "code",
   "execution_count": 71,
   "metadata": {
    "id": "Q24J1Z9vPvTD"
   },
   "outputs": [],
   "source": [
    "from sklearn.metrics import accuracy_score"
   ]
  },
  {
   "cell_type": "code",
   "execution_count": 76,
   "metadata": {
    "id": "jhAQzRfa-Dn2"
   },
   "outputs": [],
   "source": [
    "from sklearn.linear_model import LogisticRegression\n",
    "model = LogisticRegression(multi_class='multinomial', solver='lbfgs')"
   ]
  },
  {
   "cell_type": "code",
   "execution_count": null,
   "metadata": {
    "id": "A_ZaX81WGiYD"
   },
   "outputs": [],
   "source": [
    "# fit the model on the original dataset\n",
    "model.fit(X.T, Y)"
   ]
  },
  {
   "cell_type": "code",
   "execution_count": null,
   "metadata": {
    "id": "Y5k7aP2MFTWu"
   },
   "outputs": [],
   "source": [
    "yhat = model.predict(X_test.T)\n",
    "\n",
    "score = accuracy_score(Y_test, yhat)\n",
    "print(\"Accuracy: \",score*100.0,\"%\")"
   ]
  },
  {
   "cell_type": "code",
   "execution_count": null,
   "metadata": {
    "id": "E7FwGBLbFUTz"
   },
   "outputs": [],
   "source": [
    "yhat = model.predict(X_augmented_test.T)\n",
    "\n",
    "score = accuracy_score(Y_augmented_test, yhat)\n",
    "print(\"Accuracy: \",score*100.0,\"%\")"
   ]
  },
  {
   "cell_type": "code",
   "execution_count": null,
   "metadata": {
    "id": "3VvcxOhzGrDV"
   },
   "outputs": [],
   "source": [
    "# fit the model on the augmented dataset\n",
    "model.fit(X_augmented.T, Y_augmented)"
   ]
  },
  {
   "cell_type": "code",
   "execution_count": 82,
   "metadata": {
    "colab": {
     "base_uri": "https://localhost:8080/"
    },
    "id": "BgPprjpZHASd",
    "outputId": "32ae1b74-54e1-4c05-9c3c-0812e1e033e7"
   },
   "outputs": [
    {
     "name": "stdout",
     "output_type": "stream",
     "text": [
      "Accuracy:  0.0 %\n"
     ]
    }
   ],
   "source": [
    "yhat = model.predict(X_test.T)\n",
    "\n",
    "score = accuracy_score(Y_test, yhat)\n",
    "print(\"Accuracy: \",score*100.0,\"%\")"
   ]
  },
  {
   "cell_type": "code",
   "execution_count": null,
   "metadata": {
    "id": "n6luMcGSG_P0"
   },
   "outputs": [],
   "source": [
    "yhat = model.predict(X_augmented_test.T)\n",
    "\n",
    "score = accuracy_score(Y_augmented_test, yhat)\n",
    "print(\"Accuracy: \",score*100.0,\"%\")"
   ]
  },
  {
   "cell_type": "markdown",
   "metadata": {
    "id": "sTuhV7x4D56d"
   },
   "source": [
    "KNN Classifier"
   ]
  },
  {
   "cell_type": "code",
   "execution_count": 86,
   "metadata": {
    "id": "MODwIPUAplkt"
   },
   "outputs": [],
   "source": [
    "from sklearn.neighbors import KNeighborsClassifier  \n",
    "model= KNeighborsClassifier(n_neighbors=5, metric='minkowski', p=2 )  "
   ]
  },
  {
   "cell_type": "code",
   "execution_count": 87,
   "metadata": {
    "colab": {
     "base_uri": "https://localhost:8080/"
    },
    "id": "svmUvjdXQS7M",
    "outputId": "1417048d-a2c4-45d9-aed3-3335f6a63dae"
   },
   "outputs": [
    {
     "data": {
      "text/plain": [
       "KNeighborsClassifier()"
      ]
     },
     "execution_count": 87,
     "metadata": {},
     "output_type": "execute_result"
    }
   ],
   "source": [
    "# fit the model on the original dataset\n",
    "model.fit(X.T, Y)"
   ]
  },
  {
   "cell_type": "code",
   "execution_count": null,
   "metadata": {
    "id": "5tN0jkAMQS7N"
   },
   "outputs": [],
   "source": [
    "yhat = model.predict(X_test.T)\n",
    "\n",
    "score = accuracy_score(Y_test, yhat)\n",
    "print(\"Accuracy: \",score*100.0,\"%\")"
   ]
  },
  {
   "cell_type": "code",
   "execution_count": null,
   "metadata": {
    "id": "dFTsQqtMQS7O"
   },
   "outputs": [],
   "source": [
    "yhat = model.predict(X_augmented_test.T)\n",
    "\n",
    "score = accuracy_score(Y_augmented_test, yhat)\n",
    "print(\"Accuracy: \",score*100.0,\"%\")"
   ]
  },
  {
   "cell_type": "code",
   "execution_count": null,
   "metadata": {
    "id": "aZFPbuLrQS7P"
   },
   "outputs": [],
   "source": [
    "# fit the model on the augmented dataset\n",
    "model.fit(X_augmented.T, Y_augmented)"
   ]
  },
  {
   "cell_type": "code",
   "execution_count": null,
   "metadata": {
    "id": "wKIJBCNEQS7Q"
   },
   "outputs": [],
   "source": [
    "yhat = model.predict(X_test.T)\n",
    "\n",
    "score = accuracy_score(Y_test, yhat)\n",
    "print(\"Accuracy: \",score*100.0,\"%\")"
   ]
  },
  {
   "cell_type": "code",
   "execution_count": null,
   "metadata": {
    "id": "DLvUDjzRQS7Q"
   },
   "outputs": [],
   "source": [
    "yhat = model.predict(X_augmented_test.T)\n",
    "\n",
    "score = accuracy_score(Y_augmented_test, yhat)\n",
    "print(\"Accuracy: \",score*100.0,\"%\")"
   ]
  },
  {
   "cell_type": "markdown",
   "metadata": {
    "id": "WiiudtXnEWuk"
   },
   "source": [
    "SVM Classifier"
   ]
  },
  {
   "cell_type": "code",
   "execution_count": 94,
   "metadata": {
    "id": "4OCdAKUxpt5C"
   },
   "outputs": [],
   "source": [
    "from sklearn.svm import SVC # \"Support vector classifier\"  \n",
    "model = SVC(kernel='linear', random_state=0) "
   ]
  },
  {
   "cell_type": "code",
   "execution_count": null,
   "metadata": {
    "id": "xXNFrs8dQXZL"
   },
   "outputs": [],
   "source": [
    "# fit the model on the original dataset\n",
    "model.fit(X.T, Y)"
   ]
  },
  {
   "cell_type": "code",
   "execution_count": null,
   "metadata": {
    "id": "0QxGfKdRQXZM"
   },
   "outputs": [],
   "source": [
    "yhat = model.predict(X_test.T)\n",
    "\n",
    "score = accuracy_score(Y_test, yhat)\n",
    "print(\"Accuracy: \",score*100.0,\"%\")"
   ]
  },
  {
   "cell_type": "code",
   "execution_count": null,
   "metadata": {
    "id": "UnDn_XnCQXZM"
   },
   "outputs": [],
   "source": [
    "yhat = model.predict(X_augmented_test.T)\n",
    "\n",
    "score = accuracy_score(Y_augmented_test, yhat)\n",
    "print(\"Accuracy: \",score*100.0,\"%\")"
   ]
  },
  {
   "cell_type": "code",
   "execution_count": null,
   "metadata": {
    "id": "9GVPNn13QXZN"
   },
   "outputs": [],
   "source": [
    "# fit the model on the augmented dataset\n",
    "model.fit(X_augmented.T, Y_augmented)"
   ]
  },
  {
   "cell_type": "code",
   "execution_count": null,
   "metadata": {
    "id": "GHDfYJEUQXZN"
   },
   "outputs": [],
   "source": [
    "yhat = model.predict(X_test.T)\n",
    "\n",
    "score = accuracy_score(Y_test, yhat)\n",
    "print(\"Accuracy: \",score*100.0,\"%\")"
   ]
  },
  {
   "cell_type": "code",
   "execution_count": null,
   "metadata": {
    "id": "yWlO5fAQQXZO"
   },
   "outputs": [],
   "source": [
    "yhat = model.predict(X_augmented_test.T)\n",
    "\n",
    "score = accuracy_score(Y_augmented_test, yhat)\n",
    "print(\"Accuracy: \",score*100.0,\"%\")"
   ]
  },
  {
   "cell_type": "markdown",
   "metadata": {
    "id": "Dlk57dZuEylM"
   },
   "source": [
    "Decision Tree Classifier"
   ]
  },
  {
   "cell_type": "code",
   "execution_count": 97,
   "metadata": {
    "id": "fzfFXgJXp5ie"
   },
   "outputs": [],
   "source": [
    "#Fitting Decision Tree classifier to the training set  \n",
    "from sklearn.tree import DecisionTreeClassifier  \n",
    "model= DecisionTreeClassifier(criterion='entropy', random_state=0)  "
   ]
  },
  {
   "cell_type": "code",
   "execution_count": null,
   "metadata": {
    "id": "4w5pyp9oQZqj"
   },
   "outputs": [],
   "source": [
    "# fit the model on the original dataset\n",
    "model.fit(X.T, Y)"
   ]
  },
  {
   "cell_type": "code",
   "execution_count": null,
   "metadata": {
    "id": "46cYP2_fQZql"
   },
   "outputs": [],
   "source": [
    "yhat = model.predict(X_test.T)\n",
    "\n",
    "score = accuracy_score(Y_test, yhat)\n",
    "print(\"Accuracy: \",score*100.0,\"%\")"
   ]
  },
  {
   "cell_type": "code",
   "execution_count": null,
   "metadata": {
    "id": "JcqseXXxQZqm"
   },
   "outputs": [],
   "source": [
    "yhat = model.predict(X_augmented_test.T)\n",
    "\n",
    "score = accuracy_score(Y_augmented_test, yhat)\n",
    "print(\"Accuracy: \",score*100.0,\"%\")"
   ]
  },
  {
   "cell_type": "code",
   "execution_count": null,
   "metadata": {
    "id": "VeG0qJ8fQZqm"
   },
   "outputs": [],
   "source": [
    "# fit the model on the augmented dataset\n",
    "model.fit(X_augmented.T, Y_augmented)"
   ]
  },
  {
   "cell_type": "code",
   "execution_count": null,
   "metadata": {
    "id": "z1aTZ_ZlQZqm"
   },
   "outputs": [],
   "source": [
    "yhat = model.predict(X_test.T)\n",
    "\n",
    "score = accuracy_score(Y_test, yhat)\n",
    "print(\"Accuracy: \",score*100.0,\"%\")"
   ]
  },
  {
   "cell_type": "code",
   "execution_count": null,
   "metadata": {
    "id": "7MfYQijkQZqn"
   },
   "outputs": [],
   "source": [
    "yhat = model.predict(X_augmented_test.T)\n",
    "\n",
    "score = accuracy_score(Y_augmented_test, yhat)\n",
    "print(\"Accuracy: \",score*100.0,\"%\")"
   ]
  },
  {
   "cell_type": "code",
   "execution_count": 103,
   "metadata": {
    "id": "Wblymas-asn5"
   },
   "outputs": [],
   "source": []
  }
 ],
 "metadata": {
  "accelerator": "GPU",
  "colab": {
   "provenance": []
  },
  "gpuClass": "standard",
  "kernelspec": {
   "display_name": "Python 3 (ipykernel)",
   "language": "python",
   "name": "python3"
  },
  "language_info": {
   "codemirror_mode": {
    "name": "ipython",
    "version": 3
   },
   "file_extension": ".py",
   "mimetype": "text/x-python",
   "name": "python",
   "nbconvert_exporter": "python",
   "pygments_lexer": "ipython3",
   "version": "3.11.1"
  }
 },
 "nbformat": 4,
 "nbformat_minor": 1
}
